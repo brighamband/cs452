{
  "cells": [
    {
      "cell_type": "markdown",
      "metadata": {},
      "source": [
        "Forked by Brigham Andersen"
      ]
    },
    {
      "cell_type": "markdown",
      "metadata": {
        "id": "Yx8ZEB3qBNTN"
      },
      "source": [
        "# Obtaining the data\n",
        "\n",
        "The first portion of this notebook makes a connection to Kaggle for the purpose of downloading the [arXiv dataset](https://www.kaggle.com/Cornell-University/arxiv).  \n",
        "\n",
        "In order to run it, you will need to have an API key for Kaggle, which we will use to set up the Kaggle CLI in this notebook.  Instructions for how to do this can be found in [this Medium post](https://medium.com/analytics-vidhya/how-to-fetch-kaggle-datasets-into-google-colab-ea682569851a).\n",
        "\n",
        "The zipped archive of the dataset is approximately 960 MB and unzipped is approximately 2.6 GB.  You can upload it yourself to Google rather than making the connection via the Kaggle CLI as shown below, but this CLI method is significantly faster."
      ]
    },
    {
      "cell_type": "code",
      "execution_count": 2,
      "metadata": {
        "id": "uN4fLCS5BEtw",
        "vscode": {
          "languageId": "python"
        }
      },
      "outputs": [],
      "source": [
        "!pip install -q kaggle"
      ]
    },
    {
      "cell_type": "code",
      "execution_count": 3,
      "metadata": {
        "id": "j_ihuCKPBWY-",
        "vscode": {
          "languageId": "python"
        }
      },
      "outputs": [],
      "source": [
        "from google.colab import files"
      ]
    },
    {
      "cell_type": "markdown",
      "metadata": {
        "id": "NbjQuugPBbLz"
      },
      "source": [
        "## Note\n",
        "In this next row, you will upload your kaggle.json file associated with your API key to Google, which is used in the following steps."
      ]
    },
    {
      "cell_type": "code",
      "execution_count": 4,
      "metadata": {
        "colab": {
          "base_uri": "https://localhost:8080/",
          "height": 92
        },
        "id": "guXxJj1nBZMe",
        "outputId": "46821b1a-7957-4404-dbd5-031b5ab38ee9",
        "vscode": {
          "languageId": "python"
        }
      },
      "outputs": [
        {
          "data": {
            "text/html": [
              "\n",
              "     <input type=\"file\" id=\"files-24b26e5b-3f6a-4a23-bf41-7f7d29fd13db\" name=\"files[]\" multiple disabled\n",
              "        style=\"border:none\" />\n",
              "     <output id=\"result-24b26e5b-3f6a-4a23-bf41-7f7d29fd13db\">\n",
              "      Upload widget is only available when the cell has been executed in the\n",
              "      current browser session. Please rerun this cell to enable.\n",
              "      </output>\n",
              "      <script>// Copyright 2017 Google LLC\n",
              "//\n",
              "// Licensed under the Apache License, Version 2.0 (the \"License\");\n",
              "// you may not use this file except in compliance with the License.\n",
              "// You may obtain a copy of the License at\n",
              "//\n",
              "//      http://www.apache.org/licenses/LICENSE-2.0\n",
              "//\n",
              "// Unless required by applicable law or agreed to in writing, software\n",
              "// distributed under the License is distributed on an \"AS IS\" BASIS,\n",
              "// WITHOUT WARRANTIES OR CONDITIONS OF ANY KIND, either express or implied.\n",
              "// See the License for the specific language governing permissions and\n",
              "// limitations under the License.\n",
              "\n",
              "/**\n",
              " * @fileoverview Helpers for google.colab Python module.\n",
              " */\n",
              "(function(scope) {\n",
              "function span(text, styleAttributes = {}) {\n",
              "  const element = document.createElement('span');\n",
              "  element.textContent = text;\n",
              "  for (const key of Object.keys(styleAttributes)) {\n",
              "    element.style[key] = styleAttributes[key];\n",
              "  }\n",
              "  return element;\n",
              "}\n",
              "\n",
              "// Max number of bytes which will be uploaded at a time.\n",
              "const MAX_PAYLOAD_SIZE = 100 * 1024;\n",
              "\n",
              "function _uploadFiles(inputId, outputId) {\n",
              "  const steps = uploadFilesStep(inputId, outputId);\n",
              "  const outputElement = document.getElementById(outputId);\n",
              "  // Cache steps on the outputElement to make it available for the next call\n",
              "  // to uploadFilesContinue from Python.\n",
              "  outputElement.steps = steps;\n",
              "\n",
              "  return _uploadFilesContinue(outputId);\n",
              "}\n",
              "\n",
              "// This is roughly an async generator (not supported in the browser yet),\n",
              "// where there are multiple asynchronous steps and the Python side is going\n",
              "// to poll for completion of each step.\n",
              "// This uses a Promise to block the python side on completion of each step,\n",
              "// then passes the result of the previous step as the input to the next step.\n",
              "function _uploadFilesContinue(outputId) {\n",
              "  const outputElement = document.getElementById(outputId);\n",
              "  const steps = outputElement.steps;\n",
              "\n",
              "  const next = steps.next(outputElement.lastPromiseValue);\n",
              "  return Promise.resolve(next.value.promise).then((value) => {\n",
              "    // Cache the last promise value to make it available to the next\n",
              "    // step of the generator.\n",
              "    outputElement.lastPromiseValue = value;\n",
              "    return next.value.response;\n",
              "  });\n",
              "}\n",
              "\n",
              "/**\n",
              " * Generator function which is called between each async step of the upload\n",
              " * process.\n",
              " * @param {string} inputId Element ID of the input file picker element.\n",
              " * @param {string} outputId Element ID of the output display.\n",
              " * @return {!Iterable<!Object>} Iterable of next steps.\n",
              " */\n",
              "function* uploadFilesStep(inputId, outputId) {\n",
              "  const inputElement = document.getElementById(inputId);\n",
              "  inputElement.disabled = false;\n",
              "\n",
              "  const outputElement = document.getElementById(outputId);\n",
              "  outputElement.innerHTML = '';\n",
              "\n",
              "  const pickedPromise = new Promise((resolve) => {\n",
              "    inputElement.addEventListener('change', (e) => {\n",
              "      resolve(e.target.files);\n",
              "    });\n",
              "  });\n",
              "\n",
              "  const cancel = document.createElement('button');\n",
              "  inputElement.parentElement.appendChild(cancel);\n",
              "  cancel.textContent = 'Cancel upload';\n",
              "  const cancelPromise = new Promise((resolve) => {\n",
              "    cancel.onclick = () => {\n",
              "      resolve(null);\n",
              "    };\n",
              "  });\n",
              "\n",
              "  // Wait for the user to pick the files.\n",
              "  const files = yield {\n",
              "    promise: Promise.race([pickedPromise, cancelPromise]),\n",
              "    response: {\n",
              "      action: 'starting',\n",
              "    }\n",
              "  };\n",
              "\n",
              "  cancel.remove();\n",
              "\n",
              "  // Disable the input element since further picks are not allowed.\n",
              "  inputElement.disabled = true;\n",
              "\n",
              "  if (!files) {\n",
              "    return {\n",
              "      response: {\n",
              "        action: 'complete',\n",
              "      }\n",
              "    };\n",
              "  }\n",
              "\n",
              "  for (const file of files) {\n",
              "    const li = document.createElement('li');\n",
              "    li.append(span(file.name, {fontWeight: 'bold'}));\n",
              "    li.append(span(\n",
              "        `(${file.type || 'n/a'}) - ${file.size} bytes, ` +\n",
              "        `last modified: ${\n",
              "            file.lastModifiedDate ? file.lastModifiedDate.toLocaleDateString() :\n",
              "                                    'n/a'} - `));\n",
              "    const percent = span('0% done');\n",
              "    li.appendChild(percent);\n",
              "\n",
              "    outputElement.appendChild(li);\n",
              "\n",
              "    const fileDataPromise = new Promise((resolve) => {\n",
              "      const reader = new FileReader();\n",
              "      reader.onload = (e) => {\n",
              "        resolve(e.target.result);\n",
              "      };\n",
              "      reader.readAsArrayBuffer(file);\n",
              "    });\n",
              "    // Wait for the data to be ready.\n",
              "    let fileData = yield {\n",
              "      promise: fileDataPromise,\n",
              "      response: {\n",
              "        action: 'continue',\n",
              "      }\n",
              "    };\n",
              "\n",
              "    // Use a chunked sending to avoid message size limits. See b/62115660.\n",
              "    let position = 0;\n",
              "    do {\n",
              "      const length = Math.min(fileData.byteLength - position, MAX_PAYLOAD_SIZE);\n",
              "      const chunk = new Uint8Array(fileData, position, length);\n",
              "      position += length;\n",
              "\n",
              "      const base64 = btoa(String.fromCharCode.apply(null, chunk));\n",
              "      yield {\n",
              "        response: {\n",
              "          action: 'append',\n",
              "          file: file.name,\n",
              "          data: base64,\n",
              "        },\n",
              "      };\n",
              "\n",
              "      let percentDone = fileData.byteLength === 0 ?\n",
              "          100 :\n",
              "          Math.round((position / fileData.byteLength) * 100);\n",
              "      percent.textContent = `${percentDone}% done`;\n",
              "\n",
              "    } while (position < fileData.byteLength);\n",
              "  }\n",
              "\n",
              "  // All done.\n",
              "  yield {\n",
              "    response: {\n",
              "      action: 'complete',\n",
              "    }\n",
              "  };\n",
              "}\n",
              "\n",
              "scope.google = scope.google || {};\n",
              "scope.google.colab = scope.google.colab || {};\n",
              "scope.google.colab._files = {\n",
              "  _uploadFiles,\n",
              "  _uploadFilesContinue,\n",
              "};\n",
              "})(self);\n",
              "</script> "
            ],
            "text/plain": [
              "<IPython.core.display.HTML object>"
            ]
          },
          "metadata": {},
          "output_type": "display_data"
        },
        {
          "name": "stdout",
          "output_type": "stream",
          "text": [
            "Saving kaggle.json to kaggle.json\n"
          ]
        },
        {
          "data": {
            "text/plain": [
              "{'kaggle.json': b'{\"username\":\"brandonvinhle\",\"key\":\"eaf5dd886512562f1268ed64ed6c4834\"}'}"
            ]
          },
          "execution_count": 4,
          "metadata": {},
          "output_type": "execute_result"
        }
      ],
      "source": [
        "files.upload()"
      ]
    },
    {
      "cell_type": "code",
      "execution_count": 5,
      "metadata": {
        "colab": {
          "base_uri": "https://localhost:8080/"
        },
        "id": "5gicb7sWBjwd",
        "outputId": "d5fa4723-b568-4c55-cd05-dd4e7f28f4ff",
        "vscode": {
          "languageId": "python"
        }
      },
      "outputs": [
        {
          "name": "stdout",
          "output_type": "stream",
          "text": [
            "ref                                                             title                                                size  lastUpdated          downloadCount  voteCount  usabilityRating  \n",
            "--------------------------------------------------------------  --------------------------------------------------  -----  -------------------  -------------  ---------  ---------------  \n",
            "meirnizri/covid19-dataset                                       COVID-19 Dataset                                      5MB  2022-11-13 15:47:17           3253         98  1.0              \n",
            "akshaydattatraykhare/diabetes-dataset                           Diabetes Dataset                                      9KB  2022-10-06 08:55:25          19686        552  1.0              \n",
            "thedevastator/jobs-dataset-from-glassdoor                       Salary Prediction                                     3MB  2022-11-16 13:52:31           2323         61  1.0              \n",
            "fuarresvij/gdp-growth-around-the-globe                          GDP Growth around the Globe                         122KB  2022-11-22 00:36:28            873         27  0.9411765        \n",
            "akshaydattatraykhare/data-for-admission-in-the-university       Data for Admission in the University                  4KB  2022-10-27 11:05:45           6058        136  1.0              \n",
            "arthurboari/taylor-swift-spotify-data                           Taylor Swift Spotify Data                            96KB  2022-11-21 13:46:01            586         24  0.9705882        \n",
            "dsfelix/us-stores-sales                                         US Stores Sales                                      84KB  2022-11-08 00:11:06           1434         27  1.0              \n",
            "thedevastator/fashion-products-on-amazon-ratings-prices-and-pa  Fashion Products on Amazon: Ratings, Prices, etc      8MB  2022-11-18 14:28:57            995         28  1.0              \n",
            "whenamancodes/predict-diabities                                 Predict Diabetes                                      9KB  2022-11-09 12:18:49           3107         67  1.0              \n",
            "prosperchuks/health-dataset                                     Diabetes, Hypertension and Stroke Prediction        597KB  2022-11-23 10:04:03            973         31  1.0              \n",
            "thedevastator/cancer-patients-and-air-pollution-a-new-link       Lung Cancer Prediction                               7KB  2022-11-14 13:40:40           1788         50  1.0              \n",
            "dbarteaux99/stable-diffusion-1-5                                Stable Diffusion 1.5 (normal and EMAonly) with vae    7GB  2022-10-23 15:40:29             68         17  0.9375           \n",
            "piterfm/fifa-football-world-cup                                 FIFA Football World Cup                              72KB  2022-11-29 08:13:58           1405         48  1.0              \n",
            "whenamancodes/credit-card-customers-prediction                  Credit Card Customers Prediction                    379KB  2022-10-30 13:03:27           3747         78  1.0              \n",
            "mukhazarahmad/worldwide-cancer-data                             Worldwide cancer data                                 2KB  2022-11-13 03:06:15            641         27  1.0              \n",
            "shilongzhuang/-women-clothing-ecommerce-sales-data              🏷️👚 Women Clothing Ecommerce Sales Data               5KB  2022-11-21 01:27:59            528         27  1.0              \n",
            "swaptr/layoffs-2022                                             Layoffs 2022                                         30KB  2022-11-28 21:06:41           1938         50  1.0              \n",
            "thedevastator/empowering-the-next-wave-of-entrepreneurs         US Startup companies over time (Timeseries)         974KB  2022-11-16 16:11:01            717         27  1.0              \n",
            "zvr842/global-pollution-by-counties                             Global pollution by counties                         15KB  2022-11-14 10:57:31           1423         30  0.9705882        \n",
            "dheerajmukati/india-gdp-19602022                                India GDP 1960-2022                                   1KB  2022-11-11 12:08:46           1238         35  1.0              \n"
          ]
        }
      ],
      "source": [
        "!mkdir ~/.kaggle\n",
        "!cp kaggle.json ~/.kaggle\n",
        "!chmod 600 ~/.kaggle/kaggle.json\n",
        "!kaggle datasets list"
      ]
    },
    {
      "cell_type": "code",
      "execution_count": 6,
      "metadata": {
        "colab": {
          "base_uri": "https://localhost:8080/"
        },
        "id": "TyE0VR0xBn31",
        "outputId": "e0981cff-b52b-4e85-f12b-4ea2fef92211",
        "vscode": {
          "languageId": "python"
        }
      },
      "outputs": [
        {
          "name": "stdout",
          "output_type": "stream",
          "text": [
            "Downloading arxiv.zip to /content\n",
            " 99% 1.09G/1.10G [00:10<00:00, 115MB/s] \n",
            "100% 1.10G/1.10G [00:10<00:00, 114MB/s]\n"
          ]
        }
      ],
      "source": [
        "!kaggle datasets download -d Cornell-University/arxiv"
      ]
    },
    {
      "cell_type": "code",
      "execution_count": 7,
      "metadata": {
        "colab": {
          "base_uri": "https://localhost:8080/"
        },
        "id": "HNn-CnR-Br6z",
        "outputId": "23d04f32-633f-4504-cfc8-d719f0f675e2",
        "vscode": {
          "languageId": "python"
        }
      },
      "outputs": [
        {
          "name": "stdout",
          "output_type": "stream",
          "text": [
            "Archive:  arxiv.zip\n",
            "  inflating: arxiv-metadata-oai-snapshot.json  \n"
          ]
        }
      ],
      "source": [
        "!unzip \\*.zip && rm *.zip"
      ]
    },
    {
      "cell_type": "markdown",
      "metadata": {
        "id": "WrxjgfYXByrh"
      },
      "source": [
        "# Prepare the remainder of the Python environment\n",
        "\n",
        "Note that `tqdm` is optional, but I like to use it so I can tell where we are in the overall population of the dataframe, knowing that the file is approximately 1.79M rows long."
      ]
    },
    {
      "cell_type": "code",
      "execution_count": 8,
      "metadata": {
        "colab": {
          "base_uri": "https://localhost:8080/"
        },
        "id": "nPxD0w-EBvNC",
        "outputId": "2c00d91a-ff69-4806-ece1-d1c9daa3d90a",
        "vscode": {
          "languageId": "python"
        }
      },
      "outputs": [
        {
          "name": "stdout",
          "output_type": "stream",
          "text": [
            "Looking in indexes: https://pypi.org/simple, https://us-python.pkg.dev/colab-wheels/public/simple/\n",
            "Collecting neo4j\n",
            "  Downloading neo4j-5.3.0.tar.gz (157 kB)\n",
            "\u001b[K     |████████████████████████████████| 157 kB 4.7 MB/s \n",
            "\u001b[?25h  Installing build dependencies ... \u001b[?25l\u001b[?25hdone\n",
            "  Getting requirements to build wheel ... \u001b[?25l\u001b[?25hdone\n",
            "  Installing backend dependencies ... \u001b[?25l\u001b[?25hdone\n",
            "    Preparing wheel metadata ... \u001b[?25l\u001b[?25hdone\n",
            "\u001b[33m  WARNING: Generating metadata for package neo4j produced metadata for project name unknown. Fix your #egg=neo4j fragments.\u001b[0m\n",
            "\u001b[33mWARNING: Discarding https://files.pythonhosted.org/packages/56/84/c4ac67441e6f2c68e859e64631d6a218a922a2aca0603dcf96ff99f17734/neo4j-5.3.0.tar.gz#sha256=0c1c7d8812eed60da0a442d1e0f35edbda248255703e506a081cb70e083b3b5c (from https://pypi.org/simple/neo4j/) (requires-python:>=3.7). Requested unknown from https://files.pythonhosted.org/packages/56/84/c4ac67441e6f2c68e859e64631d6a218a922a2aca0603dcf96ff99f17734/neo4j-5.3.0.tar.gz#sha256=0c1c7d8812eed60da0a442d1e0f35edbda248255703e506a081cb70e083b3b5c has inconsistent name: filename has 'neo4j', but metadata has 'UNKNOWN'\u001b[0m\n",
            "  Downloading neo4j-5.2.1.tar.gz (174 kB)\n",
            "\u001b[K     |████████████████████████████████| 174 kB 46.3 MB/s \n",
            "\u001b[?25hRequirement already satisfied: pytz in /usr/local/lib/python3.7/dist-packages (from neo4j) (2022.6)\n",
            "Building wheels for collected packages: neo4j\n",
            "  Building wheel for neo4j (setup.py) ... \u001b[?25l\u001b[?25hdone\n",
            "  Created wheel for neo4j: filename=neo4j-5.2.1-py3-none-any.whl size=249499 sha256=17f9b2fd0b518723fbe6cc80764ab3e379d9cf3b99042e60951b242aa8b8e846\n",
            "  Stored in directory: /root/.cache/pip/wheels/b3/8c/94/ad2ec76fee32d266ed8954ba221bc716e468f24d1f07d98f92\n",
            "Successfully built neo4j\n",
            "Installing collected packages: neo4j\n",
            "Successfully installed neo4j-5.2.1\n",
            "Looking in indexes: https://pypi.org/simple, https://us-python.pkg.dev/colab-wheels/public/simple/\n",
            "Requirement already satisfied: tqdm in /usr/local/lib/python3.7/dist-packages (4.64.1)\n"
          ]
        }
      ],
      "source": [
        "!pip install neo4j\n",
        "!pip install tqdm"
      ]
    },
    {
      "cell_type": "code",
      "execution_count": 9,
      "metadata": {
        "id": "fFpF6HMiB4Fc",
        "vscode": {
          "languageId": "python"
        }
      },
      "outputs": [],
      "source": [
        "%matplotlib inline\n",
        "\n",
        "import json\n",
        "import time\n",
        "\n",
        "import pandas as pd\n",
        "import seaborn as sns\n",
        "import matplotlib.pyplot as plt\n",
        "from tqdm import tqdm\n",
        "from neo4j import GraphDatabase"
      ]
    },
    {
      "cell_type": "markdown",
      "metadata": {
        "id": "HKRTWLMUB_nl"
      },
      "source": [
        "# Create some helper classes and functions"
      ]
    },
    {
      "cell_type": "code",
      "execution_count": 10,
      "metadata": {
        "id": "X5Decfe8B7Xr",
        "vscode": {
          "languageId": "python"
        }
      },
      "outputs": [],
      "source": [
        "class Neo4jConnection:\n",
        "    \n",
        "    def __init__(self, uri, user, pwd):\n",
        "        self.__uri = uri\n",
        "        self.__user = user\n",
        "        self.__pwd = pwd\n",
        "        self.__driver = None\n",
        "        try:\n",
        "            self.__driver = GraphDatabase.driver(self.__uri, auth=(self.__user, self.__pwd))\n",
        "        except Exception as e:\n",
        "            print(\"Failed to create the driver:\", e)\n",
        "        \n",
        "    def close(self):\n",
        "        if self.__driver is not None:\n",
        "            self.__driver.close()\n",
        "        \n",
        "    def query(self, query, parameters=None, db=None):\n",
        "        assert self.__driver is not None, \"Driver not initialized!\"\n",
        "        session = None\n",
        "        response = None\n",
        "        try: \n",
        "            session = self.__driver.session(database=db) if db is not None else self.__driver.session() \n",
        "            response = list(session.run(query, parameters))\n",
        "        except Exception as e:\n",
        "            print(\"Query failed:\", e)\n",
        "        finally: \n",
        "            if session is not None:\n",
        "                session.close()\n",
        "        return response"
      ]
    },
    {
      "cell_type": "code",
      "execution_count": 11,
      "metadata": {
        "id": "2kSECmKkCDX9",
        "vscode": {
          "languageId": "python"
        }
      },
      "outputs": [],
      "source": [
        "def get_author_list(line):\n",
        "    # Cleans author dataframe column, creating a list of authors in the row.\n",
        "    \n",
        "    return [e[1] + ' ' + e[0] for e in line]\n",
        "\n",
        "\n",
        "def get_category_list(line):\n",
        "    # Cleans category dataframe column, creating a list of categories in the\n",
        "    # row.\n",
        "    \n",
        "    return list(line.split(\" \"))\n",
        "\n",
        "\n",
        "def add_categories(categories):\n",
        "    # Adds category nodes to the Neo4j graph.\n",
        "  \n",
        "    query = '''UNWIND $rows AS row\n",
        "    MERGE (c:Category {category: row.category})\n",
        "    RETURN count(*) as total\n",
        "    '''\n",
        "    \n",
        "    return conn.query(query, parameters={'rows': categories.to_dict('records')})\n",
        "\n",
        "\n",
        "def add_authors(rows, batch_size=10000):\n",
        "    # Adds author nodes to the Neo4j graph as a batch job.\n",
        "\n",
        "    query = '''UNWIND $rows AS row\n",
        "               MERGE (:Author {name: row.author})\n",
        "               RETURN count(*) as total\n",
        "    '''\n",
        "    return insert_data(query, rows, batch_size)\n",
        "\n",
        "\n",
        "def add_papers(rows, batch_size=5000):\n",
        "    # Adds paper nodes and (:Author)--(:Paper) and (:Paper)--(:Category)\n",
        "    # relationships to the Neo4j graph as a batch job.  (Note the smaller batch\n",
        "    # size due to the fact that this function is adding much more data than the\n",
        "    # add_authors() function.)\n",
        "\n",
        "    query = '''\n",
        "    UNWIND $rows as row\n",
        "    MERGE (p:Paper {id:row.id}) ON CREATE SET p.title = row.title\n",
        "\n",
        "    // connect categories\n",
        "    WITH row, p\n",
        "    UNWIND row.category_list AS category_name\n",
        "    MATCH (c:Category {category: category_name})\n",
        "    MERGE (p)-[:IN_CATEGORY]->(c)\n",
        "\n",
        "    // connect authors\n",
        "    WITH distinct row, p // reduce cardinality\n",
        "    UNWIND row.cleaned_authors_list AS author\n",
        "    MATCH (a:Author {name: author})\n",
        "    MERGE (a)-[:AUTHORED]->(p)\n",
        "    RETURN count(distinct p) as total\n",
        "    '''\n",
        "\n",
        "    return insert_data(query, rows, batch_size)\n",
        "\n",
        "\n",
        "def insert_data(query, rows, batch_size = 10000):\n",
        "    # Function to handle the updating the Neo4j database in batch mode.\n",
        "\n",
        "    total = 0\n",
        "    batch = 0\n",
        "    start = time.time()\n",
        "    result = None\n",
        "\n",
        "    while batch * batch_size < len(rows):\n",
        "\n",
        "        res = conn.query(query, parameters={'rows': rows[batch*batch_size:(batch+1)*batch_size].to_dict('records')})\n",
        "        total += res[0]['total']\n",
        "        batch += 1\n",
        "        result = {\"total\":total, \"batches\":batch, \"time\":time.time()-start}\n",
        "        print(result)\n",
        "\n",
        "    return result\n"
      ]
    },
    {
      "cell_type": "markdown",
      "metadata": {
        "id": "SKdLcshRDfzG"
      },
      "source": [
        "# Data loading and cleaning"
      ]
    },
    {
      "cell_type": "code",
      "execution_count": 12,
      "metadata": {
        "colab": {
          "base_uri": "https://localhost:8080/",
          "height": 739
        },
        "id": "0ZR4dk3EDL9I",
        "outputId": "1cea0eae-c5b0-4646-81ba-3f6f49872842",
        "vscode": {
          "languageId": "python"
        }
      },
      "outputs": [
        {
          "name": "stderr",
          "output_type": "stream",
          "text": [
            "999999it [00:52, 18969.25it/s]\n"
          ]
        },
        {
          "data": {
            "text/html": [
              "\n",
              "  <div id=\"df-c3e7ab06-7482-4acd-bd61-39e58523a4e2\">\n",
              "    <div class=\"colab-df-container\">\n",
              "      <div>\n",
              "<style scoped>\n",
              "    .dataframe tbody tr th:only-of-type {\n",
              "        vertical-align: middle;\n",
              "    }\n",
              "\n",
              "    .dataframe tbody tr th {\n",
              "        vertical-align: top;\n",
              "    }\n",
              "\n",
              "    .dataframe thead th {\n",
              "        text-align: right;\n",
              "    }\n",
              "</style>\n",
              "<table border=\"1\" class=\"dataframe\">\n",
              "  <thead>\n",
              "    <tr style=\"text-align: right;\">\n",
              "      <th></th>\n",
              "      <th>id</th>\n",
              "      <th>submitter</th>\n",
              "      <th>authors</th>\n",
              "      <th>title</th>\n",
              "      <th>comments</th>\n",
              "      <th>journal-ref</th>\n",
              "      <th>doi</th>\n",
              "      <th>report-no</th>\n",
              "      <th>categories</th>\n",
              "      <th>license</th>\n",
              "      <th>abstract</th>\n",
              "      <th>versions</th>\n",
              "      <th>update_date</th>\n",
              "      <th>authors_parsed</th>\n",
              "    </tr>\n",
              "  </thead>\n",
              "  <tbody>\n",
              "    <tr>\n",
              "      <th>0</th>\n",
              "      <td>0704.0001</td>\n",
              "      <td>Pavel Nadolsky</td>\n",
              "      <td>C. Bal\\'azs, E. L. Berger, P. M. Nadolsky, C.-...</td>\n",
              "      <td>Calculation of prompt diphoton production cros...</td>\n",
              "      <td>37 pages, 15 figures; published version</td>\n",
              "      <td>Phys.Rev.D76:013009,2007</td>\n",
              "      <td>10.1103/PhysRevD.76.013009</td>\n",
              "      <td>ANL-HEP-PR-07-12</td>\n",
              "      <td>hep-ph</td>\n",
              "      <td>None</td>\n",
              "      <td>A fully differential calculation in perturba...</td>\n",
              "      <td>[{'version': 'v1', 'created': 'Mon, 2 Apr 2007...</td>\n",
              "      <td>2008-11-26</td>\n",
              "      <td>[[Balázs, C., ], [Berger, E. L., ], [Nadolsky,...</td>\n",
              "    </tr>\n",
              "    <tr>\n",
              "      <th>1</th>\n",
              "      <td>0704.0002</td>\n",
              "      <td>Louis Theran</td>\n",
              "      <td>Ileana Streinu and Louis Theran</td>\n",
              "      <td>Sparsity-certifying Graph Decompositions</td>\n",
              "      <td>To appear in Graphs and Combinatorics</td>\n",
              "      <td>None</td>\n",
              "      <td>None</td>\n",
              "      <td>None</td>\n",
              "      <td>math.CO cs.CG</td>\n",
              "      <td>http://arxiv.org/licenses/nonexclusive-distrib...</td>\n",
              "      <td>We describe a new algorithm, the $(k,\\ell)$-...</td>\n",
              "      <td>[{'version': 'v1', 'created': 'Sat, 31 Mar 200...</td>\n",
              "      <td>2008-12-13</td>\n",
              "      <td>[[Streinu, Ileana, ], [Theran, Louis, ]]</td>\n",
              "    </tr>\n",
              "    <tr>\n",
              "      <th>2</th>\n",
              "      <td>0704.0003</td>\n",
              "      <td>Hongjun Pan</td>\n",
              "      <td>Hongjun Pan</td>\n",
              "      <td>The evolution of the Earth-Moon system based o...</td>\n",
              "      <td>23 pages, 3 figures</td>\n",
              "      <td>None</td>\n",
              "      <td>None</td>\n",
              "      <td>None</td>\n",
              "      <td>physics.gen-ph</td>\n",
              "      <td>None</td>\n",
              "      <td>The evolution of Earth-Moon system is descri...</td>\n",
              "      <td>[{'version': 'v1', 'created': 'Sun, 1 Apr 2007...</td>\n",
              "      <td>2008-01-13</td>\n",
              "      <td>[[Pan, Hongjun, ]]</td>\n",
              "    </tr>\n",
              "    <tr>\n",
              "      <th>3</th>\n",
              "      <td>0704.0004</td>\n",
              "      <td>David Callan</td>\n",
              "      <td>David Callan</td>\n",
              "      <td>A determinant of Stirling cycle numbers counts...</td>\n",
              "      <td>11 pages</td>\n",
              "      <td>None</td>\n",
              "      <td>None</td>\n",
              "      <td>None</td>\n",
              "      <td>math.CO</td>\n",
              "      <td>None</td>\n",
              "      <td>We show that a determinant of Stirling cycle...</td>\n",
              "      <td>[{'version': 'v1', 'created': 'Sat, 31 Mar 200...</td>\n",
              "      <td>2007-05-23</td>\n",
              "      <td>[[Callan, David, ]]</td>\n",
              "    </tr>\n",
              "    <tr>\n",
              "      <th>4</th>\n",
              "      <td>0704.0005</td>\n",
              "      <td>Alberto Torchinsky</td>\n",
              "      <td>Wael Abu-Shammala and Alberto Torchinsky</td>\n",
              "      <td>From dyadic $\\Lambda_{\\alpha}$ to $\\Lambda_{\\a...</td>\n",
              "      <td>None</td>\n",
              "      <td>Illinois J. Math. 52 (2008) no.2, 681-689</td>\n",
              "      <td>None</td>\n",
              "      <td>None</td>\n",
              "      <td>math.CA math.FA</td>\n",
              "      <td>None</td>\n",
              "      <td>In this paper we show how to compute the $\\L...</td>\n",
              "      <td>[{'version': 'v1', 'created': 'Mon, 2 Apr 2007...</td>\n",
              "      <td>2013-10-15</td>\n",
              "      <td>[[Abu-Shammala, Wael, ], [Torchinsky, Alberto, ]]</td>\n",
              "    </tr>\n",
              "  </tbody>\n",
              "</table>\n",
              "</div>\n",
              "      <button class=\"colab-df-convert\" onclick=\"convertToInteractive('df-c3e7ab06-7482-4acd-bd61-39e58523a4e2')\"\n",
              "              title=\"Convert this dataframe to an interactive table.\"\n",
              "              style=\"display:none;\">\n",
              "        \n",
              "  <svg xmlns=\"http://www.w3.org/2000/svg\" height=\"24px\"viewBox=\"0 0 24 24\"\n",
              "       width=\"24px\">\n",
              "    <path d=\"M0 0h24v24H0V0z\" fill=\"none\"/>\n",
              "    <path d=\"M18.56 5.44l.94 2.06.94-2.06 2.06-.94-2.06-.94-.94-2.06-.94 2.06-2.06.94zm-11 1L8.5 8.5l.94-2.06 2.06-.94-2.06-.94L8.5 2.5l-.94 2.06-2.06.94zm10 10l.94 2.06.94-2.06 2.06-.94-2.06-.94-.94-2.06-.94 2.06-2.06.94z\"/><path d=\"M17.41 7.96l-1.37-1.37c-.4-.4-.92-.59-1.43-.59-.52 0-1.04.2-1.43.59L10.3 9.45l-7.72 7.72c-.78.78-.78 2.05 0 2.83L4 21.41c.39.39.9.59 1.41.59.51 0 1.02-.2 1.41-.59l7.78-7.78 2.81-2.81c.8-.78.8-2.07 0-2.86zM5.41 20L4 18.59l7.72-7.72 1.47 1.35L5.41 20z\"/>\n",
              "  </svg>\n",
              "      </button>\n",
              "      \n",
              "  <style>\n",
              "    .colab-df-container {\n",
              "      display:flex;\n",
              "      flex-wrap:wrap;\n",
              "      gap: 12px;\n",
              "    }\n",
              "\n",
              "    .colab-df-convert {\n",
              "      background-color: #E8F0FE;\n",
              "      border: none;\n",
              "      border-radius: 50%;\n",
              "      cursor: pointer;\n",
              "      display: none;\n",
              "      fill: #1967D2;\n",
              "      height: 32px;\n",
              "      padding: 0 0 0 0;\n",
              "      width: 32px;\n",
              "    }\n",
              "\n",
              "    .colab-df-convert:hover {\n",
              "      background-color: #E2EBFA;\n",
              "      box-shadow: 0px 1px 2px rgba(60, 64, 67, 0.3), 0px 1px 3px 1px rgba(60, 64, 67, 0.15);\n",
              "      fill: #174EA6;\n",
              "    }\n",
              "\n",
              "    [theme=dark] .colab-df-convert {\n",
              "      background-color: #3B4455;\n",
              "      fill: #D2E3FC;\n",
              "    }\n",
              "\n",
              "    [theme=dark] .colab-df-convert:hover {\n",
              "      background-color: #434B5C;\n",
              "      box-shadow: 0px 1px 3px 1px rgba(0, 0, 0, 0.15);\n",
              "      filter: drop-shadow(0px 1px 2px rgba(0, 0, 0, 0.3));\n",
              "      fill: #FFFFFF;\n",
              "    }\n",
              "  </style>\n",
              "\n",
              "      <script>\n",
              "        const buttonEl =\n",
              "          document.querySelector('#df-c3e7ab06-7482-4acd-bd61-39e58523a4e2 button.colab-df-convert');\n",
              "        buttonEl.style.display =\n",
              "          google.colab.kernel.accessAllowed ? 'block' : 'none';\n",
              "\n",
              "        async function convertToInteractive(key) {\n",
              "          const element = document.querySelector('#df-c3e7ab06-7482-4acd-bd61-39e58523a4e2');\n",
              "          const dataTable =\n",
              "            await google.colab.kernel.invokeFunction('convertToInteractive',\n",
              "                                                     [key], {});\n",
              "          if (!dataTable) return;\n",
              "\n",
              "          const docLinkHtml = 'Like what you see? Visit the ' +\n",
              "            '<a target=\"_blank\" href=https://colab.research.google.com/notebooks/data_table.ipynb>data table notebook</a>'\n",
              "            + ' to learn more about interactive tables.';\n",
              "          element.innerHTML = '';\n",
              "          dataTable['output_type'] = 'display_data';\n",
              "          await google.colab.output.renderOutput(dataTable, element);\n",
              "          const docLink = document.createElement('div');\n",
              "          docLink.innerHTML = docLinkHtml;\n",
              "          element.appendChild(docLink);\n",
              "        }\n",
              "      </script>\n",
              "    </div>\n",
              "  </div>\n",
              "  "
            ],
            "text/plain": [
              "          id           submitter  \\\n",
              "0  0704.0001      Pavel Nadolsky   \n",
              "1  0704.0002        Louis Theran   \n",
              "2  0704.0003         Hongjun Pan   \n",
              "3  0704.0004        David Callan   \n",
              "4  0704.0005  Alberto Torchinsky   \n",
              "\n",
              "                                             authors  \\\n",
              "0  C. Bal\\'azs, E. L. Berger, P. M. Nadolsky, C.-...   \n",
              "1                    Ileana Streinu and Louis Theran   \n",
              "2                                        Hongjun Pan   \n",
              "3                                       David Callan   \n",
              "4           Wael Abu-Shammala and Alberto Torchinsky   \n",
              "\n",
              "                                               title  \\\n",
              "0  Calculation of prompt diphoton production cros...   \n",
              "1           Sparsity-certifying Graph Decompositions   \n",
              "2  The evolution of the Earth-Moon system based o...   \n",
              "3  A determinant of Stirling cycle numbers counts...   \n",
              "4  From dyadic $\\Lambda_{\\alpha}$ to $\\Lambda_{\\a...   \n",
              "\n",
              "                                  comments  \\\n",
              "0  37 pages, 15 figures; published version   \n",
              "1    To appear in Graphs and Combinatorics   \n",
              "2                      23 pages, 3 figures   \n",
              "3                                 11 pages   \n",
              "4                                     None   \n",
              "\n",
              "                                 journal-ref                         doi  \\\n",
              "0                   Phys.Rev.D76:013009,2007  10.1103/PhysRevD.76.013009   \n",
              "1                                       None                        None   \n",
              "2                                       None                        None   \n",
              "3                                       None                        None   \n",
              "4  Illinois J. Math. 52 (2008) no.2, 681-689                        None   \n",
              "\n",
              "          report-no       categories  \\\n",
              "0  ANL-HEP-PR-07-12           hep-ph   \n",
              "1              None    math.CO cs.CG   \n",
              "2              None   physics.gen-ph   \n",
              "3              None          math.CO   \n",
              "4              None  math.CA math.FA   \n",
              "\n",
              "                                             license  \\\n",
              "0                                               None   \n",
              "1  http://arxiv.org/licenses/nonexclusive-distrib...   \n",
              "2                                               None   \n",
              "3                                               None   \n",
              "4                                               None   \n",
              "\n",
              "                                            abstract  \\\n",
              "0    A fully differential calculation in perturba...   \n",
              "1    We describe a new algorithm, the $(k,\\ell)$-...   \n",
              "2    The evolution of Earth-Moon system is descri...   \n",
              "3    We show that a determinant of Stirling cycle...   \n",
              "4    In this paper we show how to compute the $\\L...   \n",
              "\n",
              "                                            versions update_date  \\\n",
              "0  [{'version': 'v1', 'created': 'Mon, 2 Apr 2007...  2008-11-26   \n",
              "1  [{'version': 'v1', 'created': 'Sat, 31 Mar 200...  2008-12-13   \n",
              "2  [{'version': 'v1', 'created': 'Sun, 1 Apr 2007...  2008-01-13   \n",
              "3  [{'version': 'v1', 'created': 'Sat, 31 Mar 200...  2007-05-23   \n",
              "4  [{'version': 'v1', 'created': 'Mon, 2 Apr 2007...  2013-10-15   \n",
              "\n",
              "                                      authors_parsed  \n",
              "0  [[Balázs, C., ], [Berger, E. L., ], [Nadolsky,...  \n",
              "1           [[Streinu, Ileana, ], [Theran, Louis, ]]  \n",
              "2                                 [[Pan, Hongjun, ]]  \n",
              "3                                [[Callan, David, ]]  \n",
              "4  [[Abu-Shammala, Wael, ], [Torchinsky, Alberto, ]]  "
            ]
          },
          "execution_count": 12,
          "metadata": {},
          "output_type": "execute_result"
        }
      ],
      "source": [
        "file = \"./arxiv-metadata-oai-snapshot.json\"\n",
        "\n",
        "metadata  = []\n",
        "\n",
        "lines = 1000000    # 100k for testing\n",
        "with open(file, 'r') as f:\n",
        "    for line in tqdm(f): \n",
        "        metadata.append(json.loads(line))\n",
        "        lines -= 1\n",
        "        if lines == 0: break\n",
        "\n",
        "df = pd.DataFrame(metadata)\n",
        "df.head()"
      ]
    },
    {
      "cell_type": "code",
      "execution_count": 13,
      "metadata": {
        "colab": {
          "base_uri": "https://localhost:8080/",
          "height": 206
        },
        "id": "zldZOk9JDXb_",
        "outputId": "8e7ba721-ea94-41e3-b96d-d255db17d315",
        "vscode": {
          "languageId": "python"
        }
      },
      "outputs": [
        {
          "data": {
            "text/html": [
              "\n",
              "  <div id=\"df-28198e59-e50d-4a9c-a7ba-5e5d61a8138f\">\n",
              "    <div class=\"colab-df-container\">\n",
              "      <div>\n",
              "<style scoped>\n",
              "    .dataframe tbody tr th:only-of-type {\n",
              "        vertical-align: middle;\n",
              "    }\n",
              "\n",
              "    .dataframe tbody tr th {\n",
              "        vertical-align: top;\n",
              "    }\n",
              "\n",
              "    .dataframe thead th {\n",
              "        text-align: right;\n",
              "    }\n",
              "</style>\n",
              "<table border=\"1\" class=\"dataframe\">\n",
              "  <thead>\n",
              "    <tr style=\"text-align: right;\">\n",
              "      <th></th>\n",
              "      <th>id</th>\n",
              "      <th>title</th>\n",
              "      <th>cleaned_authors_list</th>\n",
              "      <th>category_list</th>\n",
              "    </tr>\n",
              "  </thead>\n",
              "  <tbody>\n",
              "    <tr>\n",
              "      <th>0</th>\n",
              "      <td>0704.0001</td>\n",
              "      <td>Calculation of prompt diphoton production cros...</td>\n",
              "      <td>[C. Balázs, E. L. Berger, P. M. Nadolsky, C. -...</td>\n",
              "      <td>[hep-ph]</td>\n",
              "    </tr>\n",
              "    <tr>\n",
              "      <th>1</th>\n",
              "      <td>0704.0002</td>\n",
              "      <td>Sparsity-certifying Graph Decompositions</td>\n",
              "      <td>[Ileana Streinu, Louis Theran]</td>\n",
              "      <td>[math.CO, cs.CG]</td>\n",
              "    </tr>\n",
              "    <tr>\n",
              "      <th>2</th>\n",
              "      <td>0704.0003</td>\n",
              "      <td>The evolution of the Earth-Moon system based o...</td>\n",
              "      <td>[Hongjun Pan]</td>\n",
              "      <td>[physics.gen-ph]</td>\n",
              "    </tr>\n",
              "    <tr>\n",
              "      <th>3</th>\n",
              "      <td>0704.0004</td>\n",
              "      <td>A determinant of Stirling cycle numbers counts...</td>\n",
              "      <td>[David Callan]</td>\n",
              "      <td>[math.CO]</td>\n",
              "    </tr>\n",
              "    <tr>\n",
              "      <th>4</th>\n",
              "      <td>0704.0005</td>\n",
              "      <td>From dyadic $\\Lambda_{\\alpha}$ to $\\Lambda_{\\a...</td>\n",
              "      <td>[Wael Abu-Shammala, Alberto Torchinsky]</td>\n",
              "      <td>[math.CA, math.FA]</td>\n",
              "    </tr>\n",
              "  </tbody>\n",
              "</table>\n",
              "</div>\n",
              "      <button class=\"colab-df-convert\" onclick=\"convertToInteractive('df-28198e59-e50d-4a9c-a7ba-5e5d61a8138f')\"\n",
              "              title=\"Convert this dataframe to an interactive table.\"\n",
              "              style=\"display:none;\">\n",
              "        \n",
              "  <svg xmlns=\"http://www.w3.org/2000/svg\" height=\"24px\"viewBox=\"0 0 24 24\"\n",
              "       width=\"24px\">\n",
              "    <path d=\"M0 0h24v24H0V0z\" fill=\"none\"/>\n",
              "    <path d=\"M18.56 5.44l.94 2.06.94-2.06 2.06-.94-2.06-.94-.94-2.06-.94 2.06-2.06.94zm-11 1L8.5 8.5l.94-2.06 2.06-.94-2.06-.94L8.5 2.5l-.94 2.06-2.06.94zm10 10l.94 2.06.94-2.06 2.06-.94-2.06-.94-.94-2.06-.94 2.06-2.06.94z\"/><path d=\"M17.41 7.96l-1.37-1.37c-.4-.4-.92-.59-1.43-.59-.52 0-1.04.2-1.43.59L10.3 9.45l-7.72 7.72c-.78.78-.78 2.05 0 2.83L4 21.41c.39.39.9.59 1.41.59.51 0 1.02-.2 1.41-.59l7.78-7.78 2.81-2.81c.8-.78.8-2.07 0-2.86zM5.41 20L4 18.59l7.72-7.72 1.47 1.35L5.41 20z\"/>\n",
              "  </svg>\n",
              "      </button>\n",
              "      \n",
              "  <style>\n",
              "    .colab-df-container {\n",
              "      display:flex;\n",
              "      flex-wrap:wrap;\n",
              "      gap: 12px;\n",
              "    }\n",
              "\n",
              "    .colab-df-convert {\n",
              "      background-color: #E8F0FE;\n",
              "      border: none;\n",
              "      border-radius: 50%;\n",
              "      cursor: pointer;\n",
              "      display: none;\n",
              "      fill: #1967D2;\n",
              "      height: 32px;\n",
              "      padding: 0 0 0 0;\n",
              "      width: 32px;\n",
              "    }\n",
              "\n",
              "    .colab-df-convert:hover {\n",
              "      background-color: #E2EBFA;\n",
              "      box-shadow: 0px 1px 2px rgba(60, 64, 67, 0.3), 0px 1px 3px 1px rgba(60, 64, 67, 0.15);\n",
              "      fill: #174EA6;\n",
              "    }\n",
              "\n",
              "    [theme=dark] .colab-df-convert {\n",
              "      background-color: #3B4455;\n",
              "      fill: #D2E3FC;\n",
              "    }\n",
              "\n",
              "    [theme=dark] .colab-df-convert:hover {\n",
              "      background-color: #434B5C;\n",
              "      box-shadow: 0px 1px 3px 1px rgba(0, 0, 0, 0.15);\n",
              "      filter: drop-shadow(0px 1px 2px rgba(0, 0, 0, 0.3));\n",
              "      fill: #FFFFFF;\n",
              "    }\n",
              "  </style>\n",
              "\n",
              "      <script>\n",
              "        const buttonEl =\n",
              "          document.querySelector('#df-28198e59-e50d-4a9c-a7ba-5e5d61a8138f button.colab-df-convert');\n",
              "        buttonEl.style.display =\n",
              "          google.colab.kernel.accessAllowed ? 'block' : 'none';\n",
              "\n",
              "        async function convertToInteractive(key) {\n",
              "          const element = document.querySelector('#df-28198e59-e50d-4a9c-a7ba-5e5d61a8138f');\n",
              "          const dataTable =\n",
              "            await google.colab.kernel.invokeFunction('convertToInteractive',\n",
              "                                                     [key], {});\n",
              "          if (!dataTable) return;\n",
              "\n",
              "          const docLinkHtml = 'Like what you see? Visit the ' +\n",
              "            '<a target=\"_blank\" href=https://colab.research.google.com/notebooks/data_table.ipynb>data table notebook</a>'\n",
              "            + ' to learn more about interactive tables.';\n",
              "          element.innerHTML = '';\n",
              "          dataTable['output_type'] = 'display_data';\n",
              "          await google.colab.output.renderOutput(dataTable, element);\n",
              "          const docLink = document.createElement('div');\n",
              "          docLink.innerHTML = docLinkHtml;\n",
              "          element.appendChild(docLink);\n",
              "        }\n",
              "      </script>\n",
              "    </div>\n",
              "  </div>\n",
              "  "
            ],
            "text/plain": [
              "          id                                              title  \\\n",
              "0  0704.0001  Calculation of prompt diphoton production cros...   \n",
              "1  0704.0002           Sparsity-certifying Graph Decompositions   \n",
              "2  0704.0003  The evolution of the Earth-Moon system based o...   \n",
              "3  0704.0004  A determinant of Stirling cycle numbers counts...   \n",
              "4  0704.0005  From dyadic $\\Lambda_{\\alpha}$ to $\\Lambda_{\\a...   \n",
              "\n",
              "                                cleaned_authors_list       category_list  \n",
              "0  [C. Balázs, E. L. Berger, P. M. Nadolsky, C. -...            [hep-ph]  \n",
              "1                     [Ileana Streinu, Louis Theran]    [math.CO, cs.CG]  \n",
              "2                                      [Hongjun Pan]    [physics.gen-ph]  \n",
              "3                                     [David Callan]           [math.CO]  \n",
              "4            [Wael Abu-Shammala, Alberto Torchinsky]  [math.CA, math.FA]  "
            ]
          },
          "execution_count": 13,
          "metadata": {},
          "output_type": "execute_result"
        }
      ],
      "source": [
        "df['cleaned_authors_list'] = df['authors_parsed'].map(get_author_list)\n",
        "df['category_list'] = df['categories'].map(get_category_list)\n",
        "df = df.drop(['submitter', 'authors', 'comments', 'journal-ref', 'doi', \n",
        "              'report-no', 'license', 'versions', 'update_date', 'abstract', \n",
        "              'authors_parsed', 'categories'], axis=1)\n",
        "df.head()"
      ]
    },
    {
      "cell_type": "markdown",
      "metadata": {
        "id": "ZnymN-YJEEi5"
      },
      "source": [
        "# Prepare :Category nodes"
      ]
    },
    {
      "cell_type": "code",
      "execution_count": 14,
      "metadata": {
        "colab": {
          "base_uri": "https://localhost:8080/"
        },
        "id": "YLslwHh5DbT7",
        "outputId": "a4347559-93fb-4fae-81bf-8b1977f6366c",
        "vscode": {
          "languageId": "python"
        }
      },
      "outputs": [
        {
          "data": {
            "text/plain": [
              "156"
            ]
          },
          "execution_count": 14,
          "metadata": {},
          "output_type": "execute_result"
        }
      ],
      "source": [
        "categories = pd.DataFrame(df[['category_list']])\n",
        "categories.rename(columns={'category_list':'category'}, inplace=True)\n",
        "categories = categories.explode('category').drop_duplicates(subset=['category'])\n",
        "\n",
        "categories.size"
      ]
    },
    {
      "cell_type": "markdown",
      "metadata": {
        "id": "M2ricH2xDxG7"
      },
      "source": [
        "# Prepare :Author nodes"
      ]
    },
    {
      "cell_type": "code",
      "execution_count": 15,
      "metadata": {
        "colab": {
          "base_uri": "https://localhost:8080/"
        },
        "id": "_PdUMVu3DsyY",
        "outputId": "ab4ee760-f645-47f9-e2ab-69f3ded84f76",
        "vscode": {
          "languageId": "python"
        }
      },
      "outputs": [
        {
          "data": {
            "text/plain": [
              "774339"
            ]
          },
          "execution_count": 15,
          "metadata": {},
          "output_type": "execute_result"
        }
      ],
      "source": [
        "authors = pd.DataFrame(df[['cleaned_authors_list']])\n",
        "\n",
        "authors.rename(columns={'cleaned_authors_list':'author'}, inplace=True)\n",
        "authors=authors.explode('author').drop_duplicates(subset=['author'])\n",
        "\n",
        "authors.size"
      ]
    },
    {
      "cell_type": "markdown",
      "metadata": {
        "id": "EZ_Vuz1TETLN"
      },
      "source": [
        "# Establish connection to Neo4j Sandbox instance\n",
        "\n",
        "This demonstrationg uses the [Neo4j Sandbox](sandbox.neo4j.com), but a connection to any running Neo4j database will work, including your local machine.  A Sandbox instance does not last longer than about 3 days, so you will need to populate these values with that of your own instance."
      ]
    },
    {
      "cell_type": "code",
      "execution_count": 16,
      "metadata": {
        "id": "gLPkdVTND0f8",
        "vscode": {
          "languageId": "python"
        }
      },
      "outputs": [],
      "source": [
        "conn = Neo4jConnection(uri=\"bolt://44.202.216.69:7687\", user=\"neo4j\", pwd=\"mixture-case-alternate\")"
      ]
    },
    {
      "cell_type": "markdown",
      "metadata": {
        "id": "D85NxPXhEkvw"
      },
      "source": [
        "# Populate the database\n",
        "\n",
        "This is achieved in three steps.  First, we create all constraints guaranteeing the uniqueness of each node.  Second, we create the each of the nodes themselves.  Finally, we create the relationships between all nodes (`:AUTHORED` and `:IN_CATEGORY`).  "
      ]
    },
    {
      "cell_type": "code",
      "execution_count": 17,
      "metadata": {
        "colab": {
          "base_uri": "https://localhost:8080/"
        },
        "id": "whSNmJ2OEfLM",
        "outputId": "f226d2c9-2414-4e56-c428-755433cc881f",
        "vscode": {
          "languageId": "python"
        }
      },
      "outputs": [
        {
          "data": {
            "text/plain": [
              "[]"
            ]
          },
          "execution_count": 17,
          "metadata": {},
          "output_type": "execute_result"
        }
      ],
      "source": [
        "conn.query('CREATE CONSTRAINT papers IF NOT EXISTS ON (p:Paper) ASSERT p.id IS UNIQUE')\n",
        "conn.query('CREATE CONSTRAINT authors IF NOT EXISTS ON (a:Author) ASSERT a.name IS UNIQUE')\n",
        "conn.query('CREATE CONSTRAINT categories IF NOT EXISTS ON (c:Category) ASSERT c.category IS UNIQUE')"
      ]
    },
    {
      "cell_type": "code",
      "execution_count": 18,
      "metadata": {
        "colab": {
          "base_uri": "https://localhost:8080/"
        },
        "id": "iwuxIexbExi8",
        "outputId": "72e12600-1911-4d81-c031-5318a20f7dae",
        "vscode": {
          "languageId": "python"
        }
      },
      "outputs": [
        {
          "data": {
            "text/plain": [
              "[<Record total=156>]"
            ]
          },
          "execution_count": 18,
          "metadata": {},
          "output_type": "execute_result"
        }
      ],
      "source": [
        "add_categories(categories)"
      ]
    },
    {
      "cell_type": "code",
      "execution_count": 19,
      "metadata": {
        "colab": {
          "base_uri": "https://localhost:8080/"
        },
        "id": "RXLV2dzfE4d8",
        "outputId": "58e1680c-6a1f-42df-a570-25c352c15e28",
        "vscode": {
          "languageId": "python"
        }
      },
      "outputs": [
        {
          "name": "stdout",
          "output_type": "stream",
          "text": [
            "{'total': 10000, 'batches': 1, 'time': 31.79363441467285}\n",
            "{'total': 20000, 'batches': 2, 'time': 41.08006834983826}\n",
            "{'total': 30000, 'batches': 3, 'time': 44.375404357910156}\n",
            "{'total': 40000, 'batches': 4, 'time': 48.18710470199585}\n",
            "{'total': 50000, 'batches': 5, 'time': 49.77968621253967}\n",
            "{'total': 60000, 'batches': 6, 'time': 50.59222388267517}\n",
            "{'total': 70000, 'batches': 7, 'time': 51.58122444152832}\n",
            "{'total': 80000, 'batches': 8, 'time': 52.37989091873169}\n",
            "{'total': 90000, 'batches': 9, 'time': 53.40378975868225}\n",
            "{'total': 100000, 'batches': 10, 'time': 54.495272159576416}\n",
            "{'total': 110000, 'batches': 11, 'time': 55.272820472717285}\n",
            "{'total': 120000, 'batches': 12, 'time': 56.79674410820007}\n",
            "{'total': 130000, 'batches': 13, 'time': 58.57795739173889}\n",
            "{'total': 140000, 'batches': 14, 'time': 59.37500762939453}\n",
            "{'total': 150000, 'batches': 15, 'time': 60.20215344429016}\n",
            "{'total': 160000, 'batches': 16, 'time': 61.01967263221741}\n",
            "{'total': 170000, 'batches': 17, 'time': 61.788747787475586}\n",
            "{'total': 180000, 'batches': 18, 'time': 62.5765917301178}\n",
            "{'total': 190000, 'batches': 19, 'time': 63.50005340576172}\n",
            "{'total': 200000, 'batches': 20, 'time': 64.29562211036682}\n",
            "{'total': 210000, 'batches': 21, 'time': 65.10657334327698}\n",
            "{'total': 220000, 'batches': 22, 'time': 65.88892960548401}\n",
            "{'total': 230000, 'batches': 23, 'time': 68.1892921924591}\n",
            "{'total': 240000, 'batches': 24, 'time': 69.17699575424194}\n",
            "{'total': 250000, 'batches': 25, 'time': 70.00177526473999}\n",
            "{'total': 260000, 'batches': 26, 'time': 70.78857135772705}\n",
            "{'total': 270000, 'batches': 27, 'time': 71.60889220237732}\n",
            "{'total': 280000, 'batches': 28, 'time': 72.47518157958984}\n",
            "{'total': 290000, 'batches': 29, 'time': 73.58997654914856}\n",
            "{'total': 300000, 'batches': 30, 'time': 74.77704215049744}\n",
            "{'total': 310000, 'batches': 31, 'time': 75.60391998291016}\n",
            "{'total': 320000, 'batches': 32, 'time': 76.39524006843567}\n",
            "{'total': 330000, 'batches': 33, 'time': 77.20843434333801}\n",
            "{'total': 340000, 'batches': 34, 'time': 78.00831913948059}\n",
            "{'total': 350000, 'batches': 35, 'time': 78.89323496818542}\n",
            "{'total': 360000, 'batches': 36, 'time': 79.71002054214478}\n",
            "{'total': 370000, 'batches': 37, 'time': 80.67954421043396}\n",
            "{'total': 380000, 'batches': 38, 'time': 81.4944257736206}\n",
            "{'total': 390000, 'batches': 39, 'time': 82.48686099052429}\n",
            "{'total': 400000, 'batches': 40, 'time': 83.67669224739075}\n",
            "{'total': 410000, 'batches': 41, 'time': 84.58058023452759}\n",
            "{'total': 420000, 'batches': 42, 'time': 86.8681652545929}\n",
            "{'total': 430000, 'batches': 43, 'time': 88.37064242362976}\n",
            "{'total': 440000, 'batches': 44, 'time': 89.28020668029785}\n",
            "{'total': 450000, 'batches': 45, 'time': 90.28456902503967}\n",
            "{'total': 460000, 'batches': 46, 'time': 91.37920451164246}\n",
            "{'total': 470000, 'batches': 47, 'time': 92.47809076309204}\n",
            "{'total': 480000, 'batches': 48, 'time': 93.77636289596558}\n",
            "{'total': 490000, 'batches': 49, 'time': 94.77434372901917}\n",
            "{'total': 500000, 'batches': 50, 'time': 95.77456736564636}\n",
            "{'total': 510000, 'batches': 51, 'time': 96.70079231262207}\n",
            "{'total': 520000, 'batches': 52, 'time': 97.59413290023804}\n",
            "{'total': 530000, 'batches': 53, 'time': 98.96949744224548}\n",
            "{'total': 540000, 'batches': 54, 'time': 100.11081647872925}\n",
            "{'total': 550000, 'batches': 55, 'time': 100.99792432785034}\n",
            "{'total': 560000, 'batches': 56, 'time': 102.01340317726135}\n",
            "{'total': 570000, 'batches': 57, 'time': 102.9761278629303}\n",
            "{'total': 580000, 'batches': 58, 'time': 104.08125114440918}\n",
            "{'total': 590000, 'batches': 59, 'time': 105.17839813232422}\n",
            "{'total': 600000, 'batches': 60, 'time': 107.10713791847229}\n",
            "{'total': 610000, 'batches': 61, 'time': 107.98195362091064}\n",
            "{'total': 620000, 'batches': 62, 'time': 108.98023724555969}\n",
            "{'total': 630000, 'batches': 63, 'time': 109.90280866622925}\n",
            "{'total': 640000, 'batches': 64, 'time': 110.81258034706116}\n",
            "{'total': 650000, 'batches': 65, 'time': 111.69859051704407}\n",
            "{'total': 660000, 'batches': 66, 'time': 112.68188714981079}\n",
            "{'total': 670000, 'batches': 67, 'time': 114.18749117851257}\n",
            "{'total': 680000, 'batches': 68, 'time': 115.0105528831482}\n",
            "{'total': 690000, 'batches': 69, 'time': 115.80909872055054}\n",
            "{'total': 700000, 'batches': 70, 'time': 116.5995135307312}\n",
            "{'total': 710000, 'batches': 71, 'time': 117.41241669654846}\n",
            "{'total': 720000, 'batches': 72, 'time': 118.31376028060913}\n",
            "{'total': 730000, 'batches': 73, 'time': 119.1935544013977}\n",
            "{'total': 740000, 'batches': 74, 'time': 120.29516911506653}\n",
            "{'total': 750000, 'batches': 75, 'time': 122.38088011741638}\n",
            "{'total': 760000, 'batches': 76, 'time': 123.77447032928467}\n",
            "{'total': 770000, 'batches': 77, 'time': 124.60825872421265}\n",
            "{'total': 774339, 'batches': 78, 'time': 124.97585439682007}\n"
          ]
        },
        {
          "data": {
            "text/plain": [
              "{'total': 774339, 'batches': 78, 'time': 124.97585439682007}"
            ]
          },
          "execution_count": 19,
          "metadata": {},
          "output_type": "execute_result"
        }
      ],
      "source": [
        "add_authors(authors)"
      ]
    },
    {
      "cell_type": "markdown",
      "metadata": {
        "id": "rxQoqA0xFMiE"
      },
      "source": [
        "# Add :Papers nodes and population all relationships\n",
        "\n",
        "(This might take a few minutes.)"
      ]
    },
    {
      "cell_type": "code",
      "execution_count": 20,
      "metadata": {
        "colab": {
          "base_uri": "https://localhost:8080/"
        },
        "id": "zwtkx710E8_M",
        "outputId": "fe061b0c-ad69-4a2c-b84f-87d949c31563",
        "vscode": {
          "languageId": "python"
        }
      },
      "outputs": [
        {
          "name": "stdout",
          "output_type": "stream",
          "text": [
            "{'total': 5000, 'batches': 1, 'time': 31.778187036514282}\n",
            "{'total': 10000, 'batches': 2, 'time': 44.89191436767578}\n",
            "{'total': 15000, 'batches': 3, 'time': 55.394097566604614}\n",
            "{'total': 20000, 'batches': 4, 'time': 58.877612829208374}\n",
            "{'total': 25000, 'batches': 5, 'time': 62.50079345703125}\n",
            "{'total': 30000, 'batches': 6, 'time': 66.61822938919067}\n",
            "{'total': 35000, 'batches': 7, 'time': 70.22072386741638}\n",
            "{'total': 40000, 'batches': 8, 'time': 75.70439004898071}\n",
            "{'total': 45000, 'batches': 9, 'time': 81.07893562316895}\n",
            "{'total': 50000, 'batches': 10, 'time': 84.97992253303528}\n",
            "{'total': 55000, 'batches': 11, 'time': 88.69503927230835}\n",
            "{'total': 60000, 'batches': 12, 'time': 91.81410932540894}\n",
            "{'total': 65000, 'batches': 13, 'time': 99.3781144618988}\n",
            "{'total': 70000, 'batches': 14, 'time': 105.00033760070801}\n",
            "{'total': 75000, 'batches': 15, 'time': 108.58268976211548}\n",
            "{'total': 80000, 'batches': 16, 'time': 111.78367686271667}\n",
            "{'total': 85000, 'batches': 17, 'time': 115.1863305568695}\n",
            "{'total': 90000, 'batches': 18, 'time': 118.67750334739685}\n",
            "{'total': 95000, 'batches': 19, 'time': 121.91422462463379}\n",
            "{'total': 100000, 'batches': 20, 'time': 126.49425220489502}\n",
            "{'total': 105000, 'batches': 21, 'time': 131.18679356575012}\n",
            "{'total': 110000, 'batches': 22, 'time': 136.29266548156738}\n",
            "{'total': 115000, 'batches': 23, 'time': 141.59052538871765}\n",
            "{'total': 120000, 'batches': 24, 'time': 145.67749190330505}\n",
            "{'total': 125000, 'batches': 25, 'time': 149.802001953125}\n",
            "{'total': 130000, 'batches': 26, 'time': 154.58672857284546}\n",
            "{'total': 135000, 'batches': 27, 'time': 159.38743019104004}\n",
            "{'total': 140000, 'batches': 28, 'time': 163.6838619709015}\n",
            "{'total': 145000, 'batches': 29, 'time': 167.79226779937744}\n",
            "{'total': 150000, 'batches': 30, 'time': 171.81174564361572}\n",
            "{'total': 155000, 'batches': 31, 'time': 176.22444462776184}\n",
            "{'total': 160000, 'batches': 32, 'time': 180.88019227981567}\n",
            "{'total': 165000, 'batches': 33, 'time': 185.99511814117432}\n",
            "{'total': 170000, 'batches': 34, 'time': 190.07964515686035}\n",
            "{'total': 175000, 'batches': 35, 'time': 194.19615149497986}\n",
            "{'total': 180000, 'batches': 36, 'time': 199.58859944343567}\n",
            "{'total': 185000, 'batches': 37, 'time': 204.10125494003296}\n",
            "{'total': 190000, 'batches': 38, 'time': 209.50630712509155}\n",
            "{'total': 195000, 'batches': 39, 'time': 214.5775876045227}\n",
            "{'total': 200000, 'batches': 40, 'time': 220.4775528907776}\n",
            "{'total': 205000, 'batches': 41, 'time': 225.47975754737854}\n",
            "{'total': 210000, 'batches': 42, 'time': 229.19825267791748}\n",
            "{'total': 215000, 'batches': 43, 'time': 234.30738019943237}\n",
            "{'total': 220000, 'batches': 44, 'time': 240.28329300880432}\n",
            "{'total': 225000, 'batches': 45, 'time': 244.37750029563904}\n",
            "{'total': 230000, 'batches': 46, 'time': 248.99640369415283}\n",
            "{'total': 235000, 'batches': 47, 'time': 253.81771969795227}\n",
            "{'total': 240000, 'batches': 48, 'time': 260.0983204841614}\n",
            "{'total': 245000, 'batches': 49, 'time': 264.78375148773193}\n",
            "{'total': 250000, 'batches': 50, 'time': 270.2931191921234}\n",
            "{'total': 255000, 'batches': 51, 'time': 274.10998153686523}\n",
            "{'total': 260000, 'batches': 52, 'time': 279.1797397136688}\n",
            "{'total': 265000, 'batches': 53, 'time': 284.1049635410309}\n",
            "{'total': 270000, 'batches': 54, 'time': 289.70471119880676}\n",
            "{'total': 275000, 'batches': 55, 'time': 296.8793246746063}\n",
            "{'total': 280000, 'batches': 56, 'time': 303.00520968437195}\n",
            "{'total': 285000, 'batches': 57, 'time': 308.07890152931213}\n",
            "{'total': 290000, 'batches': 58, 'time': 313.29588651657104}\n",
            "{'total': 295000, 'batches': 59, 'time': 319.5797441005707}\n",
            "{'total': 300000, 'batches': 60, 'time': 324.58011269569397}\n",
            "{'total': 305000, 'batches': 61, 'time': 328.7859003543854}\n",
            "{'total': 310000, 'batches': 62, 'time': 334.3930971622467}\n",
            "{'total': 315000, 'batches': 63, 'time': 339.7156014442444}\n",
            "{'total': 320000, 'batches': 64, 'time': 343.8169324398041}\n",
            "{'total': 325000, 'batches': 65, 'time': 349.60254192352295}\n",
            "{'total': 330000, 'batches': 66, 'time': 356.0017030239105}\n",
            "{'total': 335000, 'batches': 67, 'time': 360.20137214660645}\n",
            "{'total': 340000, 'batches': 68, 'time': 365.67978835105896}\n",
            "{'total': 345000, 'batches': 69, 'time': 371.8800187110901}\n",
            "{'total': 350000, 'batches': 70, 'time': 377.3218150138855}\n",
            "{'total': 355000, 'batches': 71, 'time': 382.8023669719696}\n",
            "{'total': 360000, 'batches': 72, 'time': 388.5957615375519}\n",
            "{'total': 365000, 'batches': 73, 'time': 395.18045139312744}\n",
            "{'total': 370000, 'batches': 74, 'time': 400.6774101257324}\n",
            "{'total': 375000, 'batches': 75, 'time': 406.11384749412537}\n",
            "{'total': 380000, 'batches': 76, 'time': 411.72707414627075}\n",
            "{'total': 385000, 'batches': 77, 'time': 418.40587186813354}\n",
            "{'total': 390000, 'batches': 78, 'time': 423.9876403808594}\n",
            "{'total': 395000, 'batches': 79, 'time': 429.38094091415405}\n",
            "{'total': 400000, 'batches': 80, 'time': 434.19709300994873}\n",
            "{'total': 405000, 'batches': 81, 'time': 439.7055153846741}\n",
            "{'total': 410000, 'batches': 82, 'time': 445.2013967037201}\n",
            "{'total': 415000, 'batches': 83, 'time': 451.4102349281311}\n",
            "{'total': 420000, 'batches': 84, 'time': 459.8127474784851}\n",
            "{'total': 425000, 'batches': 85, 'time': 466.59614610671997}\n",
            "{'total': 430000, 'batches': 86, 'time': 472.692364692688}\n",
            "{'total': 435000, 'batches': 87, 'time': 479.296138048172}\n",
            "{'total': 440000, 'batches': 88, 'time': 485.1191999912262}\n",
            "{'total': 445000, 'batches': 89, 'time': 492.7926285266876}\n",
            "{'total': 450000, 'batches': 90, 'time': 500.0193464756012}\n",
            "{'total': 455000, 'batches': 91, 'time': 507.5933458805084}\n",
            "{'total': 460000, 'batches': 92, 'time': 513.2861211299896}\n",
            "{'total': 465000, 'batches': 93, 'time': 518.7944293022156}\n",
            "{'total': 470000, 'batches': 94, 'time': 525.0072302818298}\n",
            "{'total': 475000, 'batches': 95, 'time': 531.2029786109924}\n",
            "{'total': 480000, 'batches': 96, 'time': 537.3043966293335}\n",
            "{'total': 485000, 'batches': 97, 'time': 542.9959900379181}\n",
            "{'total': 490000, 'batches': 98, 'time': 547.3800876140594}\n",
            "{'total': 495000, 'batches': 99, 'time': 552.0775189399719}\n",
            "{'total': 500000, 'batches': 100, 'time': 556.815215587616}\n",
            "{'total': 505000, 'batches': 101, 'time': 563.2139103412628}\n",
            "{'total': 510000, 'batches': 102, 'time': 568.1960849761963}\n",
            "{'total': 515000, 'batches': 103, 'time': 573.3900380134583}\n",
            "{'total': 520000, 'batches': 104, 'time': 578.2111744880676}\n",
            "{'total': 525000, 'batches': 105, 'time': 584.514238357544}\n",
            "{'total': 530000, 'batches': 106, 'time': 590.9850080013275}\n",
            "{'total': 535000, 'batches': 107, 'time': 597.586580991745}\n",
            "{'total': 540000, 'batches': 108, 'time': 604.810417175293}\n",
            "{'total': 545000, 'batches': 109, 'time': 613.6090533733368}\n",
            "{'total': 550000, 'batches': 110, 'time': 620.2070982456207}\n",
            "{'total': 555000, 'batches': 111, 'time': 626.3499908447266}\n",
            "{'total': 560000, 'batches': 112, 'time': 632.7250072956085}\n",
            "{'total': 565000, 'batches': 113, 'time': 639.1087384223938}\n",
            "{'total': 570000, 'batches': 114, 'time': 644.7003996372223}\n",
            "{'total': 575000, 'batches': 115, 'time': 650.4024755954742}\n",
            "{'total': 580000, 'batches': 116, 'time': 655.1879756450653}\n",
            "{'total': 585000, 'batches': 117, 'time': 660.2783124446869}\n",
            "{'total': 590000, 'batches': 118, 'time': 664.7910504341125}\n",
            "{'total': 595000, 'batches': 119, 'time': 670.7196362018585}\n",
            "{'total': 600000, 'batches': 120, 'time': 677.2006502151489}\n",
            "{'total': 605000, 'batches': 121, 'time': 683.3892126083374}\n",
            "{'total': 610000, 'batches': 122, 'time': 689.0096597671509}\n",
            "{'total': 615000, 'batches': 123, 'time': 695.6962282657623}\n",
            "{'total': 620000, 'batches': 124, 'time': 702.1821579933167}\n",
            "{'total': 625000, 'batches': 125, 'time': 708.9866948127747}\n",
            "{'total': 630000, 'batches': 126, 'time': 716.7245018482208}\n",
            "{'total': 635000, 'batches': 127, 'time': 723.8030014038086}\n",
            "{'total': 640000, 'batches': 128, 'time': 731.8845858573914}\n",
            "{'total': 645000, 'batches': 129, 'time': 739.3804152011871}\n",
            "{'total': 650000, 'batches': 130, 'time': 752.2776420116425}\n",
            "{'total': 655000, 'batches': 131, 'time': 760.8812916278839}\n",
            "{'total': 660000, 'batches': 132, 'time': 769.1878354549408}\n",
            "{'total': 665000, 'batches': 133, 'time': 776.3990550041199}\n",
            "{'total': 670000, 'batches': 134, 'time': 785.7965099811554}\n",
            "{'total': 675000, 'batches': 135, 'time': 793.02352643013}\n",
            "{'total': 680000, 'batches': 136, 'time': 800.4036855697632}\n",
            "{'total': 685000, 'batches': 137, 'time': 809.6830956935883}\n",
            "{'total': 690000, 'batches': 138, 'time': 818.1833872795105}\n",
            "{'total': 695000, 'batches': 139, 'time': 824.9102101325989}\n",
            "{'total': 700000, 'batches': 140, 'time': 832.8127670288086}\n",
            "{'total': 705000, 'batches': 141, 'time': 840.9992933273315}\n",
            "{'total': 710000, 'batches': 142, 'time': 848.012359380722}\n",
            "{'total': 715000, 'batches': 143, 'time': 854.7810561656952}\n",
            "{'total': 720000, 'batches': 144, 'time': 861.1086163520813}\n",
            "{'total': 725000, 'batches': 145, 'time': 867.0131862163544}\n",
            "{'total': 730000, 'batches': 146, 'time': 873.5925135612488}\n",
            "{'total': 735000, 'batches': 147, 'time': 880.9851689338684}\n",
            "{'total': 740000, 'batches': 148, 'time': 888.8943722248077}\n",
            "{'total': 745000, 'batches': 149, 'time': 896.2853817939758}\n",
            "{'total': 750000, 'batches': 150, 'time': 904.189403295517}\n",
            "{'total': 755000, 'batches': 151, 'time': 913.4901661872864}\n",
            "{'total': 760000, 'batches': 152, 'time': 922.3809723854065}\n",
            "{'total': 765000, 'batches': 153, 'time': 930.2924132347107}\n",
            "{'total': 770000, 'batches': 154, 'time': 938.0875947475433}\n",
            "{'total': 775000, 'batches': 155, 'time': 945.6222748756409}\n",
            "{'total': 780000, 'batches': 156, 'time': 953.7181911468506}\n",
            "{'total': 785000, 'batches': 157, 'time': 962.4863076210022}\n",
            "{'total': 790000, 'batches': 158, 'time': 969.4113795757294}\n",
            "{'total': 795000, 'batches': 159, 'time': 976.2151210308075}\n",
            "{'total': 800000, 'batches': 160, 'time': 983.679135799408}\n",
            "{'total': 805000, 'batches': 161, 'time': 993.792407989502}\n",
            "{'total': 810000, 'batches': 162, 'time': 1000.585869550705}\n",
            "{'total': 815000, 'batches': 163, 'time': 1008.8783006668091}\n",
            "{'total': 820000, 'batches': 164, 'time': 1016.9151797294617}\n",
            "{'total': 825000, 'batches': 165, 'time': 1026.5914106369019}\n",
            "{'total': 830000, 'batches': 166, 'time': 1035.279393196106}\n",
            "{'total': 835000, 'batches': 167, 'time': 1043.4963665008545}\n",
            "{'total': 840000, 'batches': 168, 'time': 1052.9005258083344}\n",
            "{'total': 845000, 'batches': 169, 'time': 1062.3076639175415}\n",
            "{'total': 850000, 'batches': 170, 'time': 1070.3003525733948}\n",
            "{'total': 855000, 'batches': 171, 'time': 1077.1058568954468}\n",
            "{'total': 860000, 'batches': 172, 'time': 1085.4872615337372}\n",
            "{'total': 865000, 'batches': 173, 'time': 1092.7863609790802}\n",
            "{'total': 870000, 'batches': 174, 'time': 1100.2046229839325}\n",
            "{'total': 875000, 'batches': 175, 'time': 1108.2817933559418}\n",
            "{'total': 880000, 'batches': 176, 'time': 1115.0275847911835}\n",
            "{'total': 885000, 'batches': 177, 'time': 1123.0947954654694}\n",
            "{'total': 890000, 'batches': 178, 'time': 1133.599125623703}\n",
            "{'total': 895000, 'batches': 179, 'time': 1141.2810571193695}\n",
            "{'total': 900000, 'batches': 180, 'time': 1150.901829957962}\n",
            "{'total': 905000, 'batches': 181, 'time': 1159.8871805667877}\n",
            "{'total': 910000, 'batches': 182, 'time': 1167.4156427383423}\n",
            "{'total': 915000, 'batches': 183, 'time': 1177.08699965477}\n",
            "{'total': 920000, 'batches': 184, 'time': 1184.0227167606354}\n",
            "{'total': 925000, 'batches': 185, 'time': 1192.0812139511108}\n",
            "{'total': 930000, 'batches': 186, 'time': 1202.6895925998688}\n",
            "{'total': 935000, 'batches': 187, 'time': 1209.5880994796753}\n",
            "{'total': 940000, 'batches': 188, 'time': 1217.6032240390778}\n",
            "{'total': 945000, 'batches': 189, 'time': 1226.0112285614014}\n",
            "{'total': 950000, 'batches': 190, 'time': 1233.1950941085815}\n",
            "{'total': 955000, 'batches': 191, 'time': 1239.5047595500946}\n",
            "{'total': 960000, 'batches': 192, 'time': 1246.4881420135498}\n",
            "{'total': 965000, 'batches': 193, 'time': 1253.1917896270752}\n",
            "{'total': 970000, 'batches': 194, 'time': 1258.9895477294922}\n",
            "{'total': 975000, 'batches': 195, 'time': 1264.4226253032684}\n",
            "{'total': 980000, 'batches': 196, 'time': 1271.188551902771}\n",
            "{'total': 985000, 'batches': 197, 'time': 1278.47842669487}\n",
            "{'total': 990000, 'batches': 198, 'time': 1284.7855219841003}\n",
            "{'total': 995000, 'batches': 199, 'time': 1293.1900143623352}\n",
            "{'total': 1000000, 'batches': 200, 'time': 1302.8970968723297}\n"
          ]
        },
        {
          "data": {
            "text/plain": [
              "{'total': 1000000, 'batches': 200, 'time': 1302.8970968723297}"
            ]
          },
          "execution_count": 20,
          "metadata": {},
          "output_type": "execute_result"
        }
      ],
      "source": [
        "add_papers(df)"
      ]
    },
    {
      "cell_type": "markdown",
      "metadata": {
        "id": "Jv5X8EpSFxZ1"
      },
      "source": [
        "# Confirm the database is properly populated with some simple queries"
      ]
    },
    {
      "cell_type": "code",
      "execution_count": 25,
      "metadata": {
        "colab": {
          "base_uri": "https://localhost:8080/",
          "height": 81
        },
        "id": "N0y0qwXUFRpi",
        "outputId": "60b9424d-539b-4bd1-b609-342b5780a74f",
        "vscode": {
          "languageId": "python"
        }
      },
      "outputs": [
        {
          "data": {
            "text/html": [
              "\n",
              "  <div id=\"df-a2eb94e2-4cb5-442e-b927-cc8f31b54260\">\n",
              "    <div class=\"colab-df-container\">\n",
              "      <div>\n",
              "<style scoped>\n",
              "    .dataframe tbody tr th:only-of-type {\n",
              "        vertical-align: middle;\n",
              "    }\n",
              "\n",
              "    .dataframe tbody tr th {\n",
              "        vertical-align: top;\n",
              "    }\n",
              "\n",
              "    .dataframe thead th {\n",
              "        text-align: right;\n",
              "    }\n",
              "</style>\n",
              "<table border=\"1\" class=\"dataframe\">\n",
              "  <thead>\n",
              "    <tr style=\"text-align: right;\">\n",
              "      <th></th>\n",
              "      <th>numCsPapers</th>\n",
              "    </tr>\n",
              "  </thead>\n",
              "  <tbody>\n",
              "    <tr>\n",
              "      <th>0</th>\n",
              "      <td>223389</td>\n",
              "    </tr>\n",
              "  </tbody>\n",
              "</table>\n",
              "</div>\n",
              "      <button class=\"colab-df-convert\" onclick=\"convertToInteractive('df-a2eb94e2-4cb5-442e-b927-cc8f31b54260')\"\n",
              "              title=\"Convert this dataframe to an interactive table.\"\n",
              "              style=\"display:none;\">\n",
              "        \n",
              "  <svg xmlns=\"http://www.w3.org/2000/svg\" height=\"24px\"viewBox=\"0 0 24 24\"\n",
              "       width=\"24px\">\n",
              "    <path d=\"M0 0h24v24H0V0z\" fill=\"none\"/>\n",
              "    <path d=\"M18.56 5.44l.94 2.06.94-2.06 2.06-.94-2.06-.94-.94-2.06-.94 2.06-2.06.94zm-11 1L8.5 8.5l.94-2.06 2.06-.94-2.06-.94L8.5 2.5l-.94 2.06-2.06.94zm10 10l.94 2.06.94-2.06 2.06-.94-2.06-.94-.94-2.06-.94 2.06-2.06.94z\"/><path d=\"M17.41 7.96l-1.37-1.37c-.4-.4-.92-.59-1.43-.59-.52 0-1.04.2-1.43.59L10.3 9.45l-7.72 7.72c-.78.78-.78 2.05 0 2.83L4 21.41c.39.39.9.59 1.41.59.51 0 1.02-.2 1.41-.59l7.78-7.78 2.81-2.81c.8-.78.8-2.07 0-2.86zM5.41 20L4 18.59l7.72-7.72 1.47 1.35L5.41 20z\"/>\n",
              "  </svg>\n",
              "      </button>\n",
              "      \n",
              "  <style>\n",
              "    .colab-df-container {\n",
              "      display:flex;\n",
              "      flex-wrap:wrap;\n",
              "      gap: 12px;\n",
              "    }\n",
              "\n",
              "    .colab-df-convert {\n",
              "      background-color: #E8F0FE;\n",
              "      border: none;\n",
              "      border-radius: 50%;\n",
              "      cursor: pointer;\n",
              "      display: none;\n",
              "      fill: #1967D2;\n",
              "      height: 32px;\n",
              "      padding: 0 0 0 0;\n",
              "      width: 32px;\n",
              "    }\n",
              "\n",
              "    .colab-df-convert:hover {\n",
              "      background-color: #E2EBFA;\n",
              "      box-shadow: 0px 1px 2px rgba(60, 64, 67, 0.3), 0px 1px 3px 1px rgba(60, 64, 67, 0.15);\n",
              "      fill: #174EA6;\n",
              "    }\n",
              "\n",
              "    [theme=dark] .colab-df-convert {\n",
              "      background-color: #3B4455;\n",
              "      fill: #D2E3FC;\n",
              "    }\n",
              "\n",
              "    [theme=dark] .colab-df-convert:hover {\n",
              "      background-color: #434B5C;\n",
              "      box-shadow: 0px 1px 3px 1px rgba(0, 0, 0, 0.15);\n",
              "      filter: drop-shadow(0px 1px 2px rgba(0, 0, 0, 0.3));\n",
              "      fill: #FFFFFF;\n",
              "    }\n",
              "  </style>\n",
              "\n",
              "      <script>\n",
              "        const buttonEl =\n",
              "          document.querySelector('#df-a2eb94e2-4cb5-442e-b927-cc8f31b54260 button.colab-df-convert');\n",
              "        buttonEl.style.display =\n",
              "          google.colab.kernel.accessAllowed ? 'block' : 'none';\n",
              "\n",
              "        async function convertToInteractive(key) {\n",
              "          const element = document.querySelector('#df-a2eb94e2-4cb5-442e-b927-cc8f31b54260');\n",
              "          const dataTable =\n",
              "            await google.colab.kernel.invokeFunction('convertToInteractive',\n",
              "                                                     [key], {});\n",
              "          if (!dataTable) return;\n",
              "\n",
              "          const docLinkHtml = 'Like what you see? Visit the ' +\n",
              "            '<a target=\"_blank\" href=https://colab.research.google.com/notebooks/data_table.ipynb>data table notebook</a>'\n",
              "            + ' to learn more about interactive tables.';\n",
              "          element.innerHTML = '';\n",
              "          dataTable['output_type'] = 'display_data';\n",
              "          await google.colab.output.renderOutput(dataTable, element);\n",
              "          const docLink = document.createElement('div');\n",
              "          docLink.innerHTML = docLinkHtml;\n",
              "          element.appendChild(docLink);\n",
              "        }\n",
              "      </script>\n",
              "    </div>\n",
              "  </div>\n",
              "  "
            ],
            "text/plain": [
              "   numCsPapers\n",
              "0       223389"
            ]
          },
          "execution_count": 25,
          "metadata": {},
          "output_type": "execute_result"
        }
      ],
      "source": [
        "# Default Code\n",
        "# query_string = '''\n",
        "# MATCH (c:Category) \n",
        "# RETURN c.category, SIZE(()-[:IN_CATEGORY]->(c)) AS inDegree \n",
        "# ORDER BY inDegree DESC LIMIT 20\n",
        "# '''\n",
        "\n",
        "query_string = '''\n",
        "MATCH (c:Category) \n",
        "WHERE c.category STARTS WITH 'cs'\n",
        "RETURN SUM(SIZE(()-[:IN_CATEGORY]->(c))) AS numCsPapers \n",
        "'''\n",
        "\n",
        "# 223389\n",
        "\n",
        "top_cat_df = pd.DataFrame([dict(_) for _ in conn.query(query_string)])\n",
        "top_cat_df.head(20)"
      ]
    },
    {
      "cell_type": "code",
      "execution_count": 22,
      "metadata": {
        "colab": {
          "base_uri": "https://localhost:8080/",
          "height": 677
        },
        "id": "N0Rs5cPHF4Ga",
        "outputId": "2a13eafe-5ede-4266-9527-5949cff7ca30",
        "vscode": {
          "languageId": "python"
        }
      },
      "outputs": [
        {
          "data": {
            "image/png": "[encoded data removed]",
            "text/plain": [
              "<Figure size 864x576 with 1 Axes>"
            ]
          },
          "metadata": {
            "needs_background": "light"
          },
          "output_type": "display_data"
        }
      ],
      "source": [
        "plt.figure(figsize=(12,8))\n",
        "sns.barplot(x=top_cat_df['c.category'], y=top_cat_df['inDegree'])\n",
        "plt.xlabel('Category Name', fontsize=18)\n",
        "plt.ylabel('inDegree',fontsize=18)\n",
        "plt.xticks(rotation='vertical', fontsize=18)\n",
        "plt.show()"
      ]
    },
    {
      "cell_type": "markdown",
      "metadata": {
        "id": "G8HeWjciGFUi"
      },
      "source": [
        "# Alternative method to read graph data from Neo4j back to Python"
      ]
    },
    {
      "cell_type": "code",
      "execution_count": 23,
      "metadata": {
        "colab": {
          "base_uri": "https://localhost:8080/"
        },
        "id": "6uQO1XHbF75d",
        "outputId": "744618a9-5832-4af9-c20a-ca5a34a3e937",
        "vscode": {
          "languageId": "python"
        }
      },
      "outputs": [
        {
          "name": "stdout",
          "output_type": "stream",
          "text": [
            "hep-ph 71727\n",
            "hep-th 65598\n",
            "quant-ph 62955\n",
            "gr-qc 45613\n",
            "cond-mat.mes-hall 44464\n",
            "astro-ph.CO 44417\n",
            "cond-mat.mtrl-sci 40541\n",
            "math-ph 40414\n",
            "math.MP 40414\n",
            "astro-ph.SR 35122\n",
            "cond-mat.str-el 32788\n",
            "astro-ph.GA 31565\n",
            "math.CO 31054\n",
            "cond-mat.stat-mech 30628\n",
            "astro-ph.HE 30021\n",
            "math.AP 29021\n",
            "math.PR 28253\n",
            "hep-ex 25180\n",
            "cs.IT 24669\n",
            "math.IT 24669\n"
          ]
        }
      ],
      "source": [
        "result = conn.query(query_string)\n",
        "\n",
        "for record in result:\n",
        "    print(record[0], record[1])"
      ]
    },
    {
      "cell_type": "code",
      "execution_count": 23,
      "metadata": {
        "id": "bLRO1JfZGJVm",
        "vscode": {
          "languageId": "python"
        }
      },
      "outputs": [],
      "source": []
    }
  ],
  "metadata": {
    "colab": {
      "provenance": []
    },
    "kernelspec": {
      "display_name": "Python 3",
      "name": "python3"
    }
  },
  "nbformat": 4,
  "nbformat_minor": 0
}
